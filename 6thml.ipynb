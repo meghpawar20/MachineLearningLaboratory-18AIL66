{
 "cells": [
  {
   "cell_type": "code",
   "execution_count": 5,
   "id": "109d9d4c",
   "metadata": {},
   "outputs": [
    {
     "name": "stdout",
     "output_type": "stream",
     "text": [
      "Accuracy of Naive Bayes Classifier: 0.868421052631579\n"
     ]
    }
   ],
   "source": [
    "import pandas as pd\n",
    "from sklearn.metrics import accuracy_score\n",
    "from sklearn.model_selection import train_test_split\n",
    "from sklearn.datasets import load_iris\n",
    "from sklearn.naive_bayes import GaussianNB\n",
    "\n",
    "iris=load_iris()\n",
    "x=iris.data\n",
    "y=iris.target\n",
    "xt,xte,yt,yte=train_test_split(x,y)\n",
    "model=GaussianNB()\n",
    "model.fit(xt,yt)\n",
    "ypred=model.predict(xte)\n",
    "print(\"Accuracy of Naive Bayes Classifier:\",accuracy_score(ypred,yte))"
   ]
  },
  {
   "cell_type": "code",
   "execution_count": null,
   "id": "fe21b01c",
   "metadata": {},
   "outputs": [],
   "source": []
  }
 ],
 "metadata": {
  "kernelspec": {
   "display_name": "Python 3 (ipykernel)",
   "language": "python",
   "name": "python3"
  },
  "language_info": {
   "codemirror_mode": {
    "name": "ipython",
    "version": 3
   },
   "file_extension": ".py",
   "mimetype": "text/x-python",
   "name": "python",
   "nbconvert_exporter": "python",
   "pygments_lexer": "ipython3",
   "version": "3.10.6"
  }
 },
 "nbformat": 4,
 "nbformat_minor": 5
}
