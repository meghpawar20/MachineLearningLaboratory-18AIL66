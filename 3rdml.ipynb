{
 "cells": [
  {
   "cell_type": "code",
   "execution_count": 1,
   "id": "1194893e",
   "metadata": {},
   "outputs": [
    {
     "name": "stdout",
     "output_type": "stream",
     "text": [
      "   OrderID  CustomerID     Product  Quantity  Price\n",
      "0        1        1001      Laptop         2   1200\n",
      "1        2        1002  Smartphone         1    800\n",
      "2        3        1003      Laptop         1   1200\n",
      "3        4        1004          TV         1   1500\n",
      "6        7        1005      Laptop         1   1200\n",
      "   OrderID  CustomerID     Product  Price\n",
      "0        1        1001      Laptop   1200\n",
      "1        2        1002  Smartphone    800\n",
      "2        3        1003      Laptop   1200\n",
      "3        4        1004          TV   1500\n",
      "6        7        1005      Laptop   1200\n"
     ]
    }
   ],
   "source": [
    "import pandas as pd\n",
    "\n",
    "# Read the dataset into a pandas DataFrame\n",
    "df = pd.read_csv('data.csv')\n",
    "\n",
    "# Identify duplicate rows based on OrderID\n",
    "duplicate_rows = df[df.duplicated(['CustomerID'])]\n",
    "\n",
    "# Delete rows with duplicate OrderIDs\n",
    "df = df.drop_duplicates(['CustomerID'], keep='first')\n",
    "\n",
    "# Display the cleaned dataset\n",
    "print(df)\n",
    "\n",
    "# Identify columns with a single unique value\n",
    "single_value_columns = [col for col in df.columns if set(df[col].values)== {1,2}]\n",
    "\n",
    "# Delete columns with a single value\n",
    "df = df.drop(single_value_columns, axis=1)\n",
    "\n",
    "# Display the transformed dataset\n",
    "print(df)\n",
    "\n"
   ]
  },
  {
   "cell_type": "code",
   "execution_count": null,
   "id": "1cb5cbbe",
   "metadata": {},
   "outputs": [],
   "source": []
  }
 ],
 "metadata": {
  "kernelspec": {
   "display_name": "Python 3 (ipykernel)",
   "language": "python",
   "name": "python3"
  },
  "language_info": {
   "codemirror_mode": {
    "name": "ipython",
    "version": 3
   },
   "file_extension": ".py",
   "mimetype": "text/x-python",
   "name": "python",
   "nbconvert_exporter": "python",
   "pygments_lexer": "ipython3",
   "version": "3.10.6"
  }
 },
 "nbformat": 4,
 "nbformat_minor": 5
}
