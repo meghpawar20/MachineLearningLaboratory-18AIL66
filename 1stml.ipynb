{
 "cells": [
  {
   "cell_type": "code",
   "execution_count": 4,
   "id": "98ae8512",
   "metadata": {},
   "outputs": [
    {
     "name": "stdout",
     "output_type": "stream",
     "text": [
      "\n",
      " The Given Training Data Set \n",
      "\n",
      "['ï»¿sky', 'airtemp', 'humi', 'wind', 'water', 'forecast', 'es']\n",
      "['sunny', 'warm', 'normal', 'strong', 'warm', 'same', 'yes']\n",
      "['sunny', 'warm', 'high', 'strong', 'warm', 'same', 'yes']\n",
      "['rainy', 'cold', 'high', 'strong', 'warm', 'change', 'no']\n",
      "['sunny', 'warm', 'high', 'strong', 'cool', 'change', 'yes']\n",
      "\n",
      " The initial value of hypothesis: \n",
      "['0', '0', '0', '0', '0', '0']\n",
      "\n",
      " Find S: Finding a Maximally Specific Hypothesis\n",
      "\n",
      " For Training instance No:4 the hypothesis is  ['?', '?', '?', '?', '?', '?']\n",
      "\n",
      " The Maximally Specific Hypothesis for a given Training Examples :\n",
      "\n",
      "['?', '?', '?', '?', '?', '?']\n"
     ]
    }
   ],
   "source": [
    "import csv \n",
    "num_attributes = 6 \n",
    "a = [] \n",
    "print(\"\\n The Given Training Data Set \\n\") \n",
    "with open('es.csv', 'r') as csvfile: \n",
    "    reader = csv.reader(csvfile) \n",
    "    for row in reader: \n",
    "        a.append (row) \n",
    "        print(row) \n",
    "print(\"\\n The initial value of hypothesis: \") \n",
    "hypothesis = ['0'] * num_attributes \n",
    "print(hypothesis) \n",
    "for j in range(0,num_attributes): \n",
    "     hypothesis[j] = a[0][j]; \n",
    "print(\"\\n Find S: Finding a Maximally Specific Hypothesis\\n\") \n",
    "for i in range(0,len(a)): \n",
    "    if a[i][num_attributes]=='yes': \n",
    "         for j in range(0,num_attributes): \n",
    "                a[i][j]!=hypothesis[j]\n",
    "                hypothesis[j]='?' \n",
    "    else : \n",
    "         hypothesis[j]= a[i][j]  \n",
    "print(\" For Training instance No:{0} the hypothesis is \".format(i),hypothesis) \n",
    "print(\"\\n The Maximally Specific Hypothesis for a given Training Examples :\\n\") \n",
    "print(hypothesis) \n"
   ]
  },
  {
   "cell_type": "code",
   "execution_count": null,
   "id": "4201e812",
   "metadata": {},
   "outputs": [],
   "source": []
  }
 ],
 "metadata": {
  "kernelspec": {
   "display_name": "Python 3 (ipykernel)",
   "language": "python",
   "name": "python3"
  },
  "language_info": {
   "codemirror_mode": {
    "name": "ipython",
    "version": 3
   },
   "file_extension": ".py",
   "mimetype": "text/x-python",
   "name": "python",
   "nbconvert_exporter": "python",
   "pygments_lexer": "ipython3",
   "version": "3.10.6"
  }
 },
 "nbformat": 4,
 "nbformat_minor": 5
}
