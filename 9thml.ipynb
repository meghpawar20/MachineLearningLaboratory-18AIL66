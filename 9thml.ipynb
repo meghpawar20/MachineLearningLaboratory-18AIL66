{
 "cells": [
  {
   "cell_type": "code",
   "execution_count": 1,
   "id": "1527e9ad",
   "metadata": {},
   "outputs": [
    {
     "name": "stdout",
     "output_type": "stream",
     "text": [
      "     5.1  3.5  1.4  0.2     Iris-setosa  Cluster\n",
      "0    4.9  3.0  1.4  0.2     Iris-setosa        1\n",
      "1    4.7  3.2  1.3  0.2     Iris-setosa        1\n",
      "2    4.6  3.1  1.5  0.2     Iris-setosa        1\n",
      "3    5.0  3.6  1.4  0.2     Iris-setosa        1\n",
      "4    5.4  3.9  1.7  0.4     Iris-setosa        1\n",
      "..   ...  ...  ...  ...             ...      ...\n",
      "144  6.7  3.0  5.2  2.3  Iris-virginica        0\n",
      "145  6.3  2.5  5.0  1.9  Iris-virginica        0\n",
      "146  6.5  3.0  5.2  2.0  Iris-virginica        0\n",
      "147  6.2  3.4  5.4  2.3  Iris-virginica        0\n",
      "148  5.9  3.0  5.1  1.8  Iris-virginica        0\n",
      "\n",
      "[149 rows x 6 columns]\n"
     ]
    }
   ],
   "source": [
    "import pandas as pd\n",
    "from sklearn.mixture import GaussianMixture\n",
    "\n",
    "# Read the data from the CSV file\n",
    "data = pd.read_csv('iris.csv')\n",
    "\n",
    "# Drop any rows with missing values\n",
    "data.dropna(inplace=True)\n",
    "\n",
    "# Extract the features from the data\n",
    "X = data.iloc[:, :-1]  # Exclude the last column (assuming it contains the labels)\n",
    "\n",
    "# Create an instance of the Gaussian Mixture model\n",
    "gmm = GaussianMixture(n_components=3)  # Specify the desired number of clusters\n",
    "\n",
    "# Fit the model to the data using the EM algorithm\n",
    "gmm.fit(X)\n",
    "\n",
    "# Predict the cluster labels for the data points\n",
    "labels = gmm.predict(X)\n",
    "\n",
    "# Add the predicted labels to the original dataset\n",
    "data['Cluster'] = labels\n",
    "\n",
    "# Print the resulting clusters\n",
    "print(data)"
   ]
  },
  {
   "cell_type": "code",
   "execution_count": null,
   "id": "4af67007",
   "metadata": {},
   "outputs": [],
   "source": []
  }
 ],
 "metadata": {
  "kernelspec": {
   "display_name": "Python 3 (ipykernel)",
   "language": "python",
   "name": "python3"
  },
  "language_info": {
   "codemirror_mode": {
    "name": "ipython",
    "version": 3
   },
   "file_extension": ".py",
   "mimetype": "text/x-python",
   "name": "python",
   "nbconvert_exporter": "python",
   "pygments_lexer": "ipython3",
   "version": "3.10.6"
  }
 },
 "nbformat": 4,
 "nbformat_minor": 5
}
